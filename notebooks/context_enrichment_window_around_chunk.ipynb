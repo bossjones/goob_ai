{
 "cells": [
  {
   "cell_type": "code",
   "execution_count": 1,
   "id": "b76f5a8b",
   "metadata": {},
   "outputs": [
    {
     "data": {
      "text/plain": [
       "True"
      ]
     },
     "execution_count": 1,
     "metadata": {},
     "output_type": "execute_result"
    }
   ],
   "source": [
    "from __future__ import annotations\n",
    "\n",
    "import dotenv\n",
    "\n",
    "\n",
    "# Reload the variables in your '.env' file (override the existing variables)\n",
    "dotenv.load_dotenv(\"../.env\", override=True)"
   ]
  },
  {
   "cell_type": "markdown",
   "id": "94811d54",
   "metadata": {},
   "source": [
    "# Run basic example from Langchain Vectorstores Chroma page\n",
    "\n",
    "[Read more here](https://python.langchain.com/v0.2/docs/integrations/vectorstores/chroma/)"
   ]
  },
  {
   "cell_type": "markdown",
   "id": "dade7d86",
   "metadata": {},
   "source": [
    "# Basic Example"
   ]
  },
  {
   "cell_type": "code",
   "execution_count": null,
   "id": "34fe3e62",
   "metadata": {},
   "outputs": [
    {
     "name": "stdout",
     "output_type": "stream",
     "text": [
      "Logger set up with log level: 10\n"
     ]
    },
    {
     "data": {
      "text/plain": [
       "<loguru.logger handlers=[(id=1, level=10, sink=stdout)]>"
      ]
     },
     "execution_count": 2,
     "metadata": {},
     "output_type": "execute_result"
    },
    {
     "name": "stdout",
     "output_type": "stream",
     "text": [
      "\u001b[32m2024-08-30 19:43:08.600\u001b[0m | \u001b[34m\u001b[1mDEBUG   \u001b[0m | \u001b[36mipykernel.kernelbase\u001b[0m:\u001b[36mexecute_request\u001b[0m - \u001b[35mkernelbase.py:802\u001b[0m | \u001b[34m\u001b[1m{'header': {'msg_id': 'fb555bec-5c53badf859af9ba488e789a_69691_39', 'msg_type': 'execute_reply', 'username': 'malcolm', 'session': 'fb555bec-5c53badf859af9ba488e789a', 'date': datetime.datetime(2024, 8, 30, 23, 43, 8, 600282, tzinfo=datetime.timezone.utc), 'version': '5.3'}, 'msg_id': 'fb555bec-5c53badf859af9ba488e789a_69691_39', 'msg_type': 'execute_reply', 'parent_header': {'date': datetime.datetime(2024, 8, 30, 23, 43, 3, 789000, tzinfo=tzutc()), 'msg_id': 'f6046358-b9d1-4a74-90d6-81235667730d', 'msg_type': 'execute_request', 'session': '3decad8a-8ce2-476c-958b-dfb30b8b8939', 'username': '663e5da3-8dec-4def-a540-c5ee41224075', 'version': '5.2'}, 'content': {'status': 'ok', 'execution_count': 2, 'user_expressions': {}, 'payload': []}, 'metadata': {'started': datetime.datetime(2024, 8, 30, 23, 43, 3, 791343, tzinfo=datetime.timezone.utc), 'dependencies_met': True, 'engine': '5270c102-2bf0-4589-af8d-02305bcd274d', 'status': 'ok'}, 'tracker': <zmq.sugar.tracker.MessageTracker object at 0x105099ae0>}\u001b[0m | {}\n"
     ]
    }
   ],
   "source": [
    "import rich\n",
    "from goob_ai import debugger\n",
    "import logging\n",
    "import shutil\n",
    "import logging\n",
    "import os\n",
    "import sys\n",
    "from pathlib import Path\n",
    "from typing import TYPE_CHECKING, Any, List, Tuple\n",
    "\n",
    "import faiss\n",
    "\n",
    "from goob_ai.services import (\n",
    "    answer_question_from_context,\n",
    "    bm25_retrieval,\n",
    "    create_question_answer_from_context_chain,\n",
    "    encode_from_string,\n",
    "    encode_pdf,\n",
    "    get_chunk_by_index,\n",
    "    read_pdf_to_string,\n",
    "    replace_t_with_space,\n",
    "    retrieve_context_per_question,\n",
    "    retrieve_with_context_overlap,\n",
    "    show_context,\n",
    "    split_text_to_chunks_with_indices,\n",
    "    text_wrap,\n",
    ")\n",
    "from langchain.vectorstores import FAISS, VectorStore\n",
    "from langchain_community.docstore.in_memory import InMemoryDocstore\n",
    "from langchain_community.vectorstores import FAISS\n",
    "from langchain_core.documents import Document\n",
    "from langchain_core.prompts import PromptTemplate\n",
    "from langchain_core.runnables import RunnableSerializable\n",
    "from langchain_core.vectorstores.base import VectorStoreRetriever\n",
    "from langchain_openai import ChatOpenAI, OpenAIEmbeddings\n",
    "from loguru import logger as LOGGER\n",
    "from rank_bm25 import BM25Okapi\n",
    "\n",
    "from langchain_chroma import Chroma\n",
    "from langchain_community.document_loaders import TextLoader\n",
    "from langchain_community.embeddings.sentence_transformer import (\n",
    "    SentenceTransformerEmbeddings,\n",
    ")\n",
    "from langchain_text_splitters import CharacterTextSplitter\n",
    "\n",
    "from goob_ai.bot_logger import get_logger, global_log_config\n",
    "from goob_ai.aio_settings import aiosettings, get_rich_console\n",
    "\n",
    "\n",
    "global_log_config(\n",
    "    log_level=logging.getLevelName(\"DEBUG\"),\n",
    "    json=False,\n",
    ")\n"
   ]
  },
  {
   "cell_type": "code",
   "execution_count": null,
   "id": "afbc8f52",
   "metadata": {},
   "outputs": [],
   "source": [
    "# import\n",
    "\n",
    "path = \"example_data/Understanding_Climate_Change.pdf\"\n"
   ]
  },
  {
   "cell_type": "code",
   "execution_count": 8,
   "id": "b6bb21c6",
   "metadata": {},
   "outputs": [],
   "source": [
    "def get_faiss_vector_store(path_to_pdf: Path, chunk_size: int = 400, chunk_overlap: int = 200) -> Tuple[VectorStore, List[Document], str]:\n",
    "    content = read_pdf_to_string(f\"{path_to_pdf}\")\n",
    "    docs = split_text_to_chunks_with_indices(content, chunk_size=chunk_size, chunk_overlap=chunk_overlap)\n",
    "\n",
    "    embeddings = OpenAIEmbeddings(model=\"text-embedding-3-large\")\n",
    "    # This line creates a Faiss index using the IndexFlatL2 class. The dimension of the index is determined by the length of the embedding generated for the query \"hello world\".\n",
    "    index = faiss.IndexFlatL2(len(embeddings.embed_query(\"hello world\")))\n",
    "\n",
    "    # This line creates an instance of the FAISS vector store, specifying the embedding function (embeddings), the Faiss index (index), an in-memory document store (InMemoryDocstore()), and an empty dictionary to map index IDs to document store IDs.\n",
    "    #FIXME: note this is different from the committed code, looks like we are passing multiple arguments that are not present in the code.\n",
    "\n",
    "    # DISABLED: # vectorstore = FAISS.from_documents(\n",
    "    # DISABLED: #     docs, embeddings, index=index, docstore_cls=InMemoryDocstore(), index_to_docstore_id={}\n",
    "    # DISABLED: # )\n",
    "    vectorstore = FAISS.from_documents(\n",
    "        docs, embeddings\n",
    "    )\n",
    "    return vectorstore, docs, content"
   ]
  },
  {
   "cell_type": "code",
   "execution_count": 9,
   "id": "8d0021cd",
   "metadata": {},
   "outputs": [],
   "source": [
    "vectorstore, docs, content = get_faiss_vector_store(path)\n",
    "\n",
    "chunks_query_retriever = vectorstore.as_retriever(search_kwargs={\"k\": 1})\n",
    "embeddings = OpenAIEmbeddings(model=\"text-embedding-3-large\")\n"
   ]
  },
  {
   "cell_type": "code",
   "execution_count": 10,
   "id": "f974d960",
   "metadata": {},
   "outputs": [
    {
     "data": {
      "text/html": [
       "<pre style=\"white-space:pre;overflow-x:auto;line-height:normal;font-family:Menlo,'DejaVu Sans Mono',consolas,'Courier New',monospace\">Understanding Climate Change \n",
       "Chapter <span style=\"color: #008080; text-decoration-color: #008080; font-weight: bold\">1</span>: Introduction to Climate Change \n",
       "Climate change refers to significant, long-term changes in the global climate. The term \n",
       "<span style=\"color: #008000; text-decoration-color: #008000\">\"global climate\"</span> encompasses the planet's overall weather patterns, including temperature, \n",
       "precipitation, and wind patterns, over an extended period. Over the past century, human \n",
       "activities, particularly the burning of fossil fuels and \n",
       "</pre>\n"
      ],
      "text/plain": [
       "Understanding Climate Change \n",
       "Chapter \u001b[1;36m1\u001b[0m: Introduction to Climate Change \n",
       "Climate change refers to significant, long-term changes in the global climate. The term \n",
       "\u001b[32m\"global climate\"\u001b[0m encompasses the planet's overall weather patterns, including temperature, \n",
       "precipitation, and wind patterns, over an extended period. Over the past century, human \n",
       "activities, particularly the burning of fossil fuels and \n"
      ]
     },
     "metadata": {},
     "output_type": "display_data"
    }
   ],
   "source": [
    "chunk = get_chunk_by_index(vectorstore, 0)\n",
    "rich.print(chunk.page_content)"
   ]
  },
  {
   "cell_type": "markdown",
   "id": "c5bed1d3",
   "metadata": {},
   "source": [
    "# Comparing regular retrival and retrival with context window"
   ]
  },
  {
   "cell_type": "code",
   "execution_count": 11,
   "id": "321f98b8",
   "metadata": {},
   "outputs": [
    {
     "name": "stderr",
     "output_type": "stream",
     "text": [
      "/Users/malcolm/dev/bossjones/goob_ai/.venv/lib/python3.10/site-packages/langchain_core/_api/deprecation.py:139: LangChainDeprecationWarning: The method `BaseRetriever.get_relevant_documents` was deprecated in langchain-core 0.1.46 and will be removed in 0.3.0. Use invoke instead.\n",
      "  warn_deprecated(\n"
     ]
    },
    {
     "data": {
      "text/html": [
       "<pre style=\"white-space:pre;overflow-x:auto;line-height:normal;font-family:Menlo,'DejaVu Sans Mono',consolas,'Courier New',monospace\">Baseline Chunk:\n",
       "</pre>\n"
      ],
      "text/plain": [
       "Baseline Chunk:\n"
      ]
     },
     "metadata": {},
     "output_type": "display_data"
    },
    {
     "data": {
      "text/html": [
       "<pre style=\"white-space:pre;overflow-x:auto;line-height:normal;font-family:Menlo,'DejaVu Sans Mono',consolas,'Courier New',monospace\">ntribute \n",
       "to climate change. These forests are vital for regulating the Earth's climate and supporting \n",
       "indigenous communities and wildlife. \n",
       "Agriculture \n",
       "Agriculture contributes to climate change through methane emissions from livestock, rice \n",
       "paddies, and the use of synthetic fertilizers. Methane is a potent greenhouse gas with a much \n",
       "higher heat-trapping capability than CO2, albeit in smaller \n",
       "</pre>\n"
      ],
      "text/plain": [
       "ntribute \n",
       "to climate change. These forests are vital for regulating the Earth's climate and supporting \n",
       "indigenous communities and wildlife. \n",
       "Agriculture \n",
       "Agriculture contributes to climate change through methane emissions from livestock, rice \n",
       "paddies, and the use of synthetic fertilizers. Methane is a potent greenhouse gas with a much \n",
       "higher heat-trapping capability than CO2, albeit in smaller \n"
      ]
     },
     "metadata": {},
     "output_type": "display_data"
    },
    {
     "data": {
      "text/html": [
       "<pre style=\"white-space:pre;overflow-x:auto;line-height:normal;font-family:Menlo,'DejaVu Sans Mono',consolas,'Courier New',monospace\">\n",
       "Enriched Chunks:\n",
       "</pre>\n"
      ],
      "text/plain": [
       "\n",
       "Enriched Chunks:\n"
      ]
     },
     "metadata": {},
     "output_type": "display_data"
    },
    {
     "data": {
      "text/html": [
       "<pre style=\"white-space:pre;overflow-x:auto;line-height:normal;font-family:Menlo,'DejaVu Sans Mono',consolas,'Courier New',monospace\">n. \n",
       "Boreal Forests \n",
       "Boreal forests, found in the northern regions of North America, Europe, and Asia, also play a \n",
       "crucial role in sequestering carbon. Logging and land-use changes in these regions contribute \n",
       "to climate change. These forests are vital for regulating the Earth's climate and supporting \n",
       "indigenous communities and wildlife. \n",
       "Agriculture \n",
       "Agriculture contributes to climate change through methane emissions from livestock, rice \n",
       "paddies, and the use of synthetic fertilizers. Methane is a potent greenhouse gas with a much \n",
       "higher heat-trapping capability than CO2, albeit in smaller quantities. \n",
       "Livestock Emissions \n",
       "Ruminant animals, such as cows and sheep, produce methane during digestion. Manure \n",
       "management practices also contribute to methane and nitrous oxide emissions. Innov\n",
       "</pre>\n"
      ],
      "text/plain": [
       "n. \n",
       "Boreal Forests \n",
       "Boreal forests, found in the northern regions of North America, Europe, and Asia, also play a \n",
       "crucial role in sequestering carbon. Logging and land-use changes in these regions contribute \n",
       "to climate change. These forests are vital for regulating the Earth's climate and supporting \n",
       "indigenous communities and wildlife. \n",
       "Agriculture \n",
       "Agriculture contributes to climate change through methane emissions from livestock, rice \n",
       "paddies, and the use of synthetic fertilizers. Methane is a potent greenhouse gas with a much \n",
       "higher heat-trapping capability than CO2, albeit in smaller quantities. \n",
       "Livestock Emissions \n",
       "Ruminant animals, such as cows and sheep, produce methane during digestion. Manure \n",
       "management practices also contribute to methane and nitrous oxide emissions. Innov\n"
      ]
     },
     "metadata": {},
     "output_type": "display_data"
    }
   ],
   "source": [
    "# Baseline approach\n",
    "query = \"Explain the role of deforestation and fossil fuels in climate change.\"\n",
    "baseline_chunk = chunks_query_retriever.get_relevant_documents(query\n",
    "    ,\n",
    "    k=1\n",
    ")\n",
    "# Focused context enrichment approach\n",
    "enriched_chunks = retrieve_with_context_overlap(\n",
    "    vectorstore,\n",
    "    chunks_query_retriever,\n",
    "    query,\n",
    "    num_neighbors=1,\n",
    "    chunk_size=400,\n",
    "    chunk_overlap=200\n",
    ")\n",
    "\n",
    "rich.print(\"Baseline Chunk:\")\n",
    "rich.print(baseline_chunk[0].page_content)\n",
    "rich.print(\"\\nEnriched Chunks:\")\n",
    "rich.print(enriched_chunks[0])"
   ]
  }
 ],
 "metadata": {
  "kernelspec": {
   "display_name": "Python 3 (ipykernel)",
   "language": "python",
   "name": "python3"
  },
  "language_info": {
   "codemirror_mode": {
    "name": "ipython",
    "version": 3
   },
   "file_extension": ".py",
   "mimetype": "text/x-python",
   "name": "python",
   "nbconvert_exporter": "python",
   "pygments_lexer": "ipython3",
   "version": "3.10.14"
  }
 },
 "nbformat": 4,
 "nbformat_minor": 5
}
